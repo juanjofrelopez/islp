{
 "cells": [
  {
   "cell_type": "markdown",
   "metadata": {},
   "source": [
    "# Exercises"
   ]
  },
  {
   "cell_type": "markdown",
   "metadata": {},
   "source": [
    "## Conceptual"
   ]
  },
  {
   "cell_type": "markdown",
   "metadata": {},
   "source": [
    "1. For each of parts (a) through (d), indicate whether we would generally expect the performance of a flexible statistical learning method to be better or worse than an inflexible method. Justify your answer.\n",
    "(a) The sample size n is extremely large, and the number of predictors p is small.\n",
    "(b) The number of predictors p is extremely large, and the number of observations n is small.\n",
    "(c) The relationship between the predictors and response is highly non-linear.\n",
    "(d) The variance of the error terms, i.e. σ 2 = Var(\"), is extremely high."
   ]
  },
  {
   "attachments": {
    "image.png": {
     "image/png": "[encoded data removed]"
    }
   },
   "cell_type": "markdown",
   "metadata": {},
   "source": [
    "\n",
    "\n",
    "2. Explain whether each scenario is a classification or regression prob-\n",
    "lem, and indicate whether we are most interested in inference or pre-\n",
    "diction. Finally, provide n and p.\n",
    "(a) We collect a set of data on the top 500 firms in the US. For each\n",
    "firm we record profit, number of employees, industry and the\n",
    "CEO salary. We are interested in understanding which factors\n",
    "affect CEO salary.\n",
    "(b) We are considering launching a new product and wish to know\n",
    "whether it will be a success or a failure. We collect data on 20\n",
    "similar products that were previously launched. For each prod-\n",
    "uct we have recorded whether it was a success or failure, price\n",
    "charged for the product, marketing budget, competition price,\n",
    "and ten other variables.\n",
    "(c) We are interested in predicting the % change in the USD/Euro\n",
    "exchange rate in relation to the weekly changes in the world\n",
    "stock markets. Hence we collect weekly data for all of 2012. For\n",
    "each week we record the % change in the USD/Euro, the %\n",
    "change in the US market, the % change in the British market,\n",
    "and the % change in the German market.\n",
    "1. We now revisit the bias-variance decomposition.\n",
    "(a) Provide a sketch of typical (squared) bias, variance, training er-\n",
    "ror, test error, and Bayes (or irreducible) error curves, on a sin-\n",
    "gle plot, as we go from less flexible statistical learning methods\n",
    "towards more flexible approaches. The x-axis should represent\n",
    "the amount of flexibility in the method, and the y-axis should\n",
    "represent the values for each curve. There should be five curves.\n",
    "Make sure to label each one.\n",
    "(b) Explain why each of the five curves has the shape displayed in\n",
    "part (a)\n",
    "3. You will now think of some real-life applications for statistical learn-\n",
    "ing.\n",
    "(a) Describe three real-life applications in which classification might\n",
    "be useful. Describe the response, as well as the predictors. Is the\n",
    "goal of each application inference or prediction? Explain your\n",
    "answer.\n",
    "(b) Describe three real-life applications in which regression might\n",
    "be useful. Describe the response, as well as the predictors. Is the\n",
    "goal of each application inference or prediction? Explain your\n",
    "answer.\n",
    "(c) Describe three real-life applications in which cluster analysis\n",
    "might be useful.\n",
    "1. What are the advantages and disadvantages of a very flexible (versus\n",
    "a less flexible) approach for regression or classification? Under what\n",
    "circumstances might a more flexible approach be preferred to a less\n",
    "flexible approach? When might a less flexible approach be preferred?\n",
    "1. Describe the differences between a parametric and a non-parametric\n",
    "statistical learning approach. What are the advantages of a para-\n",
    "metric approach to regression or classification (as opposed to a non-\n",
    "parametric approach)? What are its disadvantages?\n",
    "1. The table below provides a training data set containing six observa-\n",
    "tions, three predictors, and one qualitative response variable.\n",
    "\n",
    "![image.png](attachment:image.png)\n",
    "\n",
    "\n",
    "Suppose we wish to use this data set to make a prediction for Y when\n",
    "X1 = X2 = X3 = 0 using K-nearest neighbors.\n",
    "(a) Compute the Euclidean distance between each observation and\n",
    "the test point, X1 = X2 = X3 = 0.\n",
    "(b) What is our prediction with K = 1? Why?\n",
    "(c) What is our prediction with K = 3? Why?\n",
    "(d) If the Bayes decision boundary in this problem is highly non-\n",
    "linear, then would we expect the best value for K to be large or\n",
    "small? Why?"
   ]
  },
  {
   "cell_type": "markdown",
   "metadata": {},
   "source": [
    "## Applied"
   ]
  }
 ],
 "metadata": {
  "language_info": {
   "name": "python"
  }
 },
 "nbformat": 4,
 "nbformat_minor": 2
}
